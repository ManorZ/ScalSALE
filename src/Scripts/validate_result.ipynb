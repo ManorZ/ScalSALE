{
 "cells": [
  {
   "cell_type": "code",
   "execution_count": 1,
   "id": "be062bc0-2f85-47b1-ac43-843520edcc50",
   "metadata": {},
   "outputs": [],
   "source": [
    "velocity_result1        = \"ifort_serial/o0/march18/velocity_result1.txt\"\n",
    "velocity_result2        = \"ifort_serial/o2/march18/velocity_result1.txt\"\n",
    "\n",
    "total_cell_mass_result1 = \"ifort_serial/o0/march18/total_cell_mass_result1.txt\"\n",
    "total_cell_mass_result2 = \"ifort_serial/o2/march18/total_cell_mass_result1.txt\"\n",
    "\n",
    "total_pressure_result1  = \"ifort_serial/o0/march18/total_pressure_result1.txt\"\n",
    "total_pressure_result2  = \"ifort_serial/o2/march18/total_pressure_result1.txt\"\n",
    "\n",
    "total_sie_result1       = \"ifort_serial/o0/march18/total_sie_result1.txt\"\n",
    "total_sie_result2       = \"ifort_serial/o2/march18/total_sie_result1.txt\""
   ]
  },
  {
   "cell_type": "code",
   "execution_count": 2,
   "id": "f8d00db5-6a95-49a5-b9a3-db5999cf9ad3",
   "metadata": {},
   "outputs": [],
   "source": [
    "import numpy as np\n",
    "import re\n",
    "\n",
    "def read_ifort_result(filename):\n",
    "    file = open(filename, 'r')\n",
    "    lines = file.readlines()\n",
    "    lines = [x.rstrip('\\n') for x in lines]\n",
    "    lines = [x.lstrip() for x in lines]\n",
    "    lines = [re.sub(' +',' ',x) for x in lines]\n",
    "    lines = [x.split(' ') for x in lines]\n",
    "    lines = np.asarray(lines, dtype=np.double)\n",
    "    return lines"
   ]
  },
  {
   "cell_type": "code",
   "execution_count": 3,
   "id": "0e15b260-1546-4a55-b4de-87a3014d318f",
   "metadata": {},
   "outputs": [
    {
     "name": "stdout",
     "output_type": "stream",
     "text": [
      "velocity mae error: 2.5952119816449265e-29\n",
      "velocity relative mae error: 100%\n",
      "total cell mass mae error: 2.718199470278697e-16\n",
      "total cell mass relative mae error: 0%\n",
      "total pressure mae error: 0.0\n",
      "total pressure relative mae error: 0%\n",
      "total sie mae error: 0.0\n",
      "total sie relative mae error: 0%\n"
     ]
    }
   ],
   "source": [
    "def printme():\n",
    "    velocity_result1_arr = read_ifort_result(velocity_result1)\n",
    "    velocity_result2_arr = read_ifort_result(velocity_result2)\n",
    "    velocity_result__err = np.linalg.norm(velocity_result1_arr-velocity_result2_arr)\n",
    "    velocity_result__rel_err = np.linalg.norm(velocity_result1_arr-velocity_result2_arr) / \\\n",
    "                               np.linalg.norm(velocity_result1_arr)\n",
    "    print('velocity mae error:', velocity_result__err)\n",
    "    print('velocity relative mae error: {0:.0%}'.format(velocity_result__rel_err))\n",
    "    \n",
    "    total_cell_mass_result1_arr = read_ifort_result(total_cell_mass_result1)\n",
    "    total_cell_mass_result2_arr = read_ifort_result(total_cell_mass_result2)\n",
    "    total_cell_mass_result__err     = np.linalg.norm(total_cell_mass_result1_arr-total_cell_mass_result2_arr)\n",
    "    total_cell_mass_result__rel_err = np.linalg.norm(total_cell_mass_result1_arr-total_cell_mass_result2_arr) / \\\n",
    "                                      np.linalg.norm(total_cell_mass_result1_arr)\n",
    "    print('total cell mass mae error:', total_cell_mass_result__err)\n",
    "    print('total cell mass relative mae error: {0:.0%}'.format(total_cell_mass_result__rel_err))\n",
    "    \n",
    "    total_pressure_result1_arr = read_ifort_result(total_pressure_result1)\n",
    "    total_pressure_result2_arr = read_ifort_result(total_pressure_result2)\n",
    "    total_pressure_result__err     = np.linalg.norm(total_pressure_result1_arr-total_pressure_result2_arr)\n",
    "    total_pressure_result__rel_err = np.linalg.norm(total_pressure_result1_arr-total_pressure_result2_arr) / \\\n",
    "                                     np.linalg.norm(total_pressure_result1_arr)\n",
    "    print('total pressure mae error:', total_pressure_result__err)\n",
    "    print('total pressure relative mae error: {0:.0%}'.format(total_pressure_result__rel_err))\n",
    "    \n",
    "    total_sie_result1_arr = read_ifort_result(total_sie_result1)\n",
    "    total_sie_result2_arr = read_ifort_result(total_sie_result2)\n",
    "    total_sie_result__err = np.linalg.norm(total_sie_result1_arr-total_sie_result2_arr)\n",
    "    total_sie_result__rel_err = np.linalg.norm(total_sie_result1_arr-total_sie_result2_arr) / \\\n",
    "                                np.linalg.norm(total_sie_result1_arr)\n",
    "    print('total sie mae error:', total_sie_result__err)\n",
    "    print('total sie relative mae error: {0:.0%}'.format(total_sie_result__rel_err))\n",
    "printme()"
   ]
  },
  {
   "cell_type": "code",
   "execution_count": 4,
   "id": "c7a5932c-ea11-424e-b2f6-6e072ad12187",
   "metadata": {},
   "outputs": [],
   "source": [
    "velocity_result1        = \"ifort_serial/o0/march18/velocity_result1.txt\"\n",
    "velocity_result2        = \"ifort_parallel/o3/no_simd/march18/velocity_result1.txt\"\n",
    "\n",
    "total_cell_mass_result1 = \"ifort_serial/o0/march18/total_cell_mass_result1.txt\"\n",
    "total_cell_mass_result2 = \"ifort_parallel/o3/no_simd/march18/total_cell_mass_result1.txt\"\n",
    "\n",
    "total_pressure_result1  = \"ifort_serial/o0/march18/total_pressure_result1.txt\"\n",
    "total_pressure_result2  = \"ifort_parallel/o3/no_simd/march18/total_pressure_result1.txt\"\n",
    "\n",
    "total_sie_result1       = \"ifort_serial/o0/march18/total_sie_result1.txt\"\n",
    "total_sie_result2       = \"ifort_parallel/o3/no_simd/march18/total_sie_result1.txt\""
   ]
  },
  {
   "cell_type": "code",
   "execution_count": 5,
   "id": "465a633e-0aff-4319-989b-ba4234522955",
   "metadata": {},
   "outputs": [
    {
     "name": "stdout",
     "output_type": "stream",
     "text": [
      "velocity mae error: 0.0\n",
      "velocity relative mae error: 0%\n",
      "total cell mass mae error: 2.718199470278697e-16\n",
      "total cell mass relative mae error: 0%\n",
      "total pressure mae error: 0.0\n",
      "total pressure relative mae error: 0%\n",
      "total sie mae error: 0.0\n",
      "total sie relative mae error: 0%\n"
     ]
    }
   ],
   "source": [
    "printme()"
   ]
  },
  {
   "cell_type": "code",
   "execution_count": 6,
   "id": "2ed3177f-a6d9-47b9-8ca3-46f0fd769dbd",
   "metadata": {},
   "outputs": [],
   "source": [
    "velocity_result1        = \"ifort_serial/o2/march18/velocity_result1.txt\"\n",
    "velocity_result2        = \"ifort_parallel/o3/no_simd/march18/velocity_result1.txt\"\n",
    "\n",
    "total_cell_mass_result1 = \"ifort_serial/o2/march18/total_cell_mass_result1.txt\"\n",
    "total_cell_mass_result2 = \"ifort_parallel/o3/no_simd/march18/total_cell_mass_result1.txt\"\n",
    "\n",
    "total_pressure_result1  = \"ifort_serial/o2/march18/total_pressure_result1.txt\"\n",
    "total_pressure_result2  = \"ifort_parallel/o3/no_simd/march18/total_pressure_result1.txt\"\n",
    "\n",
    "total_sie_result1       = \"ifort_serial/o2/march18/total_sie_result1.txt\"\n",
    "total_sie_result2       = \"ifort_parallel/o3/no_simd/march18/total_sie_result1.txt\""
   ]
  },
  {
   "cell_type": "code",
   "execution_count": 7,
   "id": "3541c5f3-40f1-4c31-8f7e-16cad21a8b39",
   "metadata": {},
   "outputs": [
    {
     "name": "stdout",
     "output_type": "stream",
     "text": [
      "velocity mae error: 2.5952119816449265e-29\n",
      "velocity relative mae error: inf%\n",
      "total cell mass mae error: 0.0\n",
      "total cell mass relative mae error: 0%\n",
      "total pressure mae error: 0.0\n",
      "total pressure relative mae error: 0%\n",
      "total sie mae error: 0.0\n",
      "total sie relative mae error: 0%\n"
     ]
    },
    {
     "name": "stderr",
     "output_type": "stream",
     "text": [
      "/tmp/ipykernel_1242159/2560696081.py:5: RuntimeWarning: divide by zero encountered in double_scalars\n",
      "  velocity_result__rel_err = np.linalg.norm(velocity_result1_arr-velocity_result2_arr) / \\\n"
     ]
    }
   ],
   "source": [
    "printme()"
   ]
  },
  {
   "cell_type": "code",
   "execution_count": 8,
   "id": "d8ae11a8-89fd-4f7e-8777-d89af0820c23",
   "metadata": {},
   "outputs": [],
   "source": [
    "velocity_result1        = \"ifort_serial/o0/march18/velocity_result1.txt\"\n",
    "velocity_result2        = \"ifort_parallel/o3/with_simd/march18/velocity_result1.txt\"\n",
    "\n",
    "total_cell_mass_result1 = \"ifort_serial/o0/march18/total_cell_mass_result1.txt\"\n",
    "total_cell_mass_result2 = \"ifort_parallel/o3/with_simd/march18/total_cell_mass_result1.txt\"\n",
    "\n",
    "total_pressure_result1  = \"ifort_serial/o0/march18/total_pressure_result1.txt\"\n",
    "total_pressure_result2  = \"ifort_parallel/o3/with_simd/march18/total_pressure_result1.txt\"\n",
    "\n",
    "total_sie_result1       = \"ifort_serial/o0/march18/total_sie_result1.txt\"\n",
    "total_sie_result2       = \"ifort_parallel/o3/with_simd/march18/total_sie_result1.txt\""
   ]
  },
  {
   "cell_type": "code",
   "execution_count": 9,
   "id": "eeeca5c9-c082-48a7-a7d8-5dd6d032093f",
   "metadata": {},
   "outputs": [
    {
     "name": "stdout",
     "output_type": "stream",
     "text": [
      "velocity mae error: 3.4228784703209777e-29\n",
      "velocity relative mae error: 132%\n",
      "total cell mass mae error: 1.6863727563925668e-16\n",
      "total cell mass relative mae error: 0%\n",
      "total pressure mae error: 0.0\n",
      "total pressure relative mae error: 0%\n",
      "total sie mae error: 0.0\n",
      "total sie relative mae error: 0%\n"
     ]
    }
   ],
   "source": [
    "printme()"
   ]
  },
  {
   "cell_type": "code",
   "execution_count": 10,
   "id": "73607e49-358a-4dd8-9047-36338a6dbdad",
   "metadata": {},
   "outputs": [],
   "source": [
    "velocity_result1        = \"ifort_serial/o2/march18/velocity_result1.txt\"\n",
    "velocity_result2        = \"ifort_parallel/o3/with_simd/march18/velocity_result1.txt\"\n",
    "\n",
    "total_cell_mass_result1 = \"ifort_serial/o2/march18/total_cell_mass_result1.txt\"\n",
    "total_cell_mass_result2 = \"ifort_parallel/o3/with_simd/march18/total_cell_mass_result1.txt\"\n",
    "\n",
    "total_pressure_result1  = \"ifort_serial/o2/march18/total_pressure_result1.txt\"\n",
    "total_pressure_result2  = \"ifort_parallel/o3/with_simd/march18/total_pressure_result1.txt\"\n",
    "\n",
    "total_sie_result1       = \"ifort_serial/o2/march18/total_sie_result1.txt\"\n",
    "total_sie_result2       = \"ifort_parallel/o3/with_simd/march18/total_sie_result1.txt\""
   ]
  },
  {
   "cell_type": "code",
   "execution_count": 11,
   "id": "44e9e865-1f46-4fdf-aea4-8ef0f432d387",
   "metadata": {},
   "outputs": [
    {
     "name": "stdout",
     "output_type": "stream",
     "text": [
      "velocity mae error: 2.63096305950931e-29\n",
      "velocity relative mae error: inf%\n",
      "total cell mass mae error: 3.047963873452676e-16\n",
      "total cell mass relative mae error: 0%\n",
      "total pressure mae error: 0.0\n",
      "total pressure relative mae error: 0%\n",
      "total sie mae error: 0.0\n",
      "total sie relative mae error: 0%\n"
     ]
    },
    {
     "name": "stderr",
     "output_type": "stream",
     "text": [
      "/tmp/ipykernel_1242159/2560696081.py:5: RuntimeWarning: divide by zero encountered in double_scalars\n",
      "  velocity_result__rel_err = np.linalg.norm(velocity_result1_arr-velocity_result2_arr) / \\\n"
     ]
    }
   ],
   "source": [
    "printme()"
   ]
  },
  {
   "cell_type": "code",
   "execution_count": 18,
   "id": "8db4e3fa-60f6-4471-8686-d5e92ae73fd6",
   "metadata": {},
   "outputs": [],
   "source": [
    "velocity_result1        = \"ifort_serial/o0/march18/velocity_result1.txt\"\n",
    "velocity_result2        = \"velocity_result.txt\"\n",
    "\n",
    "total_cell_mass_result1 = \"ifort_serial/o0/march18/total_cell_mass_result1.txt\"\n",
    "total_cell_mass_result2 = \"total_cell_mass_result.txt\"\n",
    "\n",
    "total_pressure_result1  = \"ifort_serial/o0/march18/total_pressure_result1.txt\"\n",
    "total_pressure_result2  = \"total_pressure_result.txt\"\n",
    "\n",
    "total_sie_result1       = \"ifort_serial/o0/march18/total_sie_result1.txt\"\n",
    "total_sie_result2       = \"total_sie_result.txt\""
   ]
  },
  {
   "cell_type": "code",
   "execution_count": 19,
   "id": "029d5c58-216a-4466-aa00-ab6864ba58e1",
   "metadata": {},
   "outputs": [
    {
     "name": "stdout",
     "output_type": "stream",
     "text": [
      "velocity mae error: 1.0179721422002467e-28\n",
      "velocity relative mae error: 392%\n",
      "total cell mass mae error: 1.6863661189829648e-16\n",
      "total cell mass relative mae error: 0%\n",
      "total pressure mae error: 3.5448603089953e-18\n",
      "total pressure relative mae error: 0%\n",
      "total sie mae error: 0.0\n",
      "total sie relative mae error: 0%\n"
     ]
    }
   ],
   "source": [
    "printme()"
   ]
  },
  {
   "cell_type": "code",
   "execution_count": null,
   "id": "f1c97440-3f1e-48df-9569-66dcfdd01d80",
   "metadata": {},
   "outputs": [],
   "source": []
  }
 ],
 "metadata": {
  "kernelspec": {
   "display_name": "Python 3 (Intel® oneAPI 2023.0)",
   "language": "python",
   "name": "c009-intel_distribution_of_python_3_oneapi-beta05-python"
  },
  "language_info": {
   "codemirror_mode": {
    "name": "ipython",
    "version": 3
   },
   "file_extension": ".py",
   "mimetype": "text/x-python",
   "name": "python",
   "nbconvert_exporter": "python",
   "pygments_lexer": "ipython3",
   "version": "3.9.15"
  }
 },
 "nbformat": 4,
 "nbformat_minor": 5
}
