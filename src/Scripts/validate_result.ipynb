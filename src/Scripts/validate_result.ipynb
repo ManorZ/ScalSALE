{
 "cells": [
  {
   "cell_type": "code",
   "execution_count": 20,
   "id": "be062bc0-2f85-47b1-ac43-843520edcc50",
   "metadata": {},
   "outputs": [],
   "source": [
    "# velocity_result1        = \"ifort_serial/o0/march13/velocity_result_q.txt\"\n",
    "velocity_result1        = \"ifort_serial/o2/march13/velocity_result_q.txt\"\n",
    "\n",
    "# velocity_result2        = \"ifort_parallel/o0/march13/velocity_result_q.txt\"\n",
    "velocity_result2        = \"ifort_parallel/o2/march14/velocity_result_q.txt\"\n",
    "# velocity_result2        = \"ifort_parallel/o3/march13/velocity_result_q.txt\"\n",
    "\n",
    "# total_cell_mass_result1 = \"ifort_serial/o0/march13/total_cell_mass_result_q.txt\"\n",
    "total_cell_mass_result1 = \"ifort_serial/o2/march13/total_cell_mass_result_q.txt\"\n",
    "\n",
    "# total_cell_mass_result2 = \"ifort_parallel/o0/march13/total_cell_mass_result_q.txt\"\n",
    "total_cell_mass_result2 = \"ifort_parallel/o2/march14/total_cell_mass_result_q.txt\"\n",
    "# total_cell_mass_result2 = \"ifort_parallel/o3/march13/total_cell_mass_result_q.txt\"\n",
    "\n",
    "# total_pressure_result1  = \"ifort_serial/o0/march13/total_pressure_result_q.txt\"\n",
    "total_pressure_result1  = \"ifort_serial/o2/march13/total_pressure_result_q.txt\"\n",
    "\n",
    "# total_pressure_result2  = \"ifort_parallel/o0/march13/total_pressure_result_q.txt\"\n",
    "total_pressure_result2  = \"ifort_parallel/o2/march14/total_pressure_result_q.txt\"\n",
    "# total_pressure_result2  = \"ifort_parallel/o3/march13/total_pressure_result_q.txt\"\n",
    "\n",
    "# total_sie_result1       = \"ifort_serial/o0/march13/total_sie_result_q.txt\"\n",
    "total_sie_result1       = \"ifort_serial/o2/march13/total_sie_result_q.txt\"\n",
    "\n",
    "# total_sie_result2       = \"ifort_parallel/o0/march13/total_sie_result_q.txt\"\n",
    "total_sie_result2       = \"ifort_parallel/o2/march14/total_sie_result_q.txt\"\n",
    "# total_sie_result2       = \"ifort_parallel/o3/march13/total_sie_result_q.txt\""
   ]
  },
  {
   "cell_type": "code",
   "execution_count": 21,
   "id": "f8d00db5-6a95-49a5-b9a3-db5999cf9ad3",
   "metadata": {},
   "outputs": [],
   "source": [
    "import numpy as np\n",
    "import re\n",
    "\n",
    "def read_ifort_result(filename):\n",
    "    file = open(filename, 'r')\n",
    "    lines = file.readlines()\n",
    "    lines = [x.rstrip('\\n') for x in lines]\n",
    "    lines = [x.lstrip() for x in lines]\n",
    "    lines = [re.sub(' +',' ',x) for x in lines]\n",
    "    lines = [x.split(' ') for x in lines]\n",
    "    lines = np.asarray(lines, dtype=np.double)\n",
    "    return lines"
   ]
  },
  {
   "cell_type": "code",
   "execution_count": 22,
   "id": "0e15b260-1546-4a55-b4de-87a3014d318f",
   "metadata": {},
   "outputs": [
    {
     "name": "stdout",
     "output_type": "stream",
     "text": [
      "velocity error: 2.5952119816449265e-29\n",
      "total cell mass error: 0.0\n",
      "total pressure error: 0.0\n",
      "total sie error: 0.0\n"
     ]
    }
   ],
   "source": [
    "velocity_result1_arr = read_ifort_result(velocity_result1)\n",
    "velocity_result2_arr = read_ifort_result(velocity_result2)\n",
    "velocity_result__err = np.linalg.norm(velocity_result1_arr-velocity_result2_arr)\n",
    "print('velocity error:', velocity_result__err)\n",
    "total_cell_mass_result1_arr = read_ifort_result(total_cell_mass_result1)\n",
    "total_cell_mass_result2_arr = read_ifort_result(total_cell_mass_result2)\n",
    "total_cell_mass_result__err = np.linalg.norm(total_cell_mass_result1_arr-total_cell_mass_result2_arr)\n",
    "print('total cell mass error:', total_cell_mass_result__err)\n",
    "total_pressure_result1_arr = read_ifort_result(total_pressure_result1)\n",
    "total_pressure_result2_arr = read_ifort_result(total_pressure_result2)\n",
    "total_pressure_result__err = np.linalg.norm(total_pressure_result1_arr-total_pressure_result2_arr)\n",
    "print('total pressure error:', total_pressure_result__err)\n",
    "total_sie_result1_arr = read_ifort_result(total_sie_result1)\n",
    "total_sie_result2_arr = read_ifort_result(total_sie_result2)\n",
    "total_sie_result__err = np.linalg.norm(total_sie_result1_arr-total_sie_result2_arr)\n",
    "print('total sie error:', total_sie_result__err)"
   ]
  },
  {
   "cell_type": "code",
   "execution_count": 105,
   "id": "73192784-edc0-4394-9ace-44082e6a119e",
   "metadata": {},
   "outputs": [],
   "source": [
    "velocity_result1        = \"gnu_serial/o0/velocity_result_.txt\"\n",
    "velocity_result2        = \"gnu_parallel/o3/mavx2/velocity_result_.txt\"\n",
    "total_cell_mass_result1 = \"gnu_serial/o0/total_cell_mass_result_.txt\"\n",
    "total_cell_mass_result2 = \"gnu_parallel/o3/mavx2/total_cell_mass_result_.txt\"\n",
    "total_pressure_result1  = \"gnu_serial/o0/total_pressure_result_.txt\"\n",
    "total_pressure_result2  = \"gnu_parallel/o3/mavx2/total_pressure_result_.txt\"\n",
    "total_sie_result1       = \"gnu_serial/o0/total_sie_result_.txt\"\n",
    "total_sie_result2       = \"gnu_parallel/o3/mavx2/total_sie_result_.txt\""
   ]
  },
  {
   "cell_type": "code",
   "execution_count": 106,
   "id": "d0812504-d486-4660-92ae-3f72a8e812cb",
   "metadata": {},
   "outputs": [],
   "source": [
    "def read_gnu_result(filename):\n",
    "    file = open(filename, 'r')\n",
    "    lines = file.readlines()\n",
    "    lines = [x.rstrip('\\n') for x in lines]\n",
    "    lines = [x.rstrip() for x in lines]\n",
    "    lines = [x.lstrip() for x in lines]\n",
    "    lines = [re.sub(' +',' ',x) for x in lines]\n",
    "    lines = [x.split(' ') for x in lines]\n",
    "    lines = np.asarray(lines, dtype=np.double)\n",
    "    return lines"
   ]
  },
  {
   "cell_type": "code",
   "execution_count": 107,
   "id": "52f07fa8-5339-47ee-86ab-64c2988efe29",
   "metadata": {},
   "outputs": [
    {
     "name": "stdout",
     "output_type": "stream",
     "text": [
      "0.0\n",
      "0.0\n",
      "0.0\n",
      "0.0\n"
     ]
    }
   ],
   "source": [
    "velocity_result1_arr = read_gnu_result(velocity_result1)\n",
    "velocity_result2_arr = read_gnu_result(velocity_result2)\n",
    "velocity_result__err = np.linalg.norm(velocity_result1_arr-velocity_result2_arr)\n",
    "print(velocity_result__err)\n",
    "total_cell_mass_result1_arr = read_gnu_result(total_cell_mass_result1)\n",
    "total_cell_mass_result2_arr = read_gnu_result(total_cell_mass_result2)\n",
    "total_cell_mass_result__err = np.linalg.norm(total_cell_mass_result1_arr-total_cell_mass_result2_arr)\n",
    "print(total_cell_mass_result__err)\n",
    "total_pressure_result1_arr = read_gnu_result(total_pressure_result1)\n",
    "total_pressure_result2_arr = read_gnu_result(total_pressure_result2)\n",
    "total_pressure_result__err = np.linalg.norm(total_pressure_result1_arr-total_pressure_result2_arr)\n",
    "print(total_pressure_result__err)\n",
    "total_sie_result1_arr = read_gnu_result(total_sie_result1)\n",
    "total_sie_result2_arr = read_gnu_result(total_sie_result2)\n",
    "total_sie_result__err = np.linalg.norm(total_sie_result1_arr-total_sie_result2_arr)\n",
    "print(total_sie_result__err)"
   ]
  },
  {
   "cell_type": "code",
   "execution_count": 111,
   "id": "cb273f8a-3e20-4b13-9d99-fda1885c74c4",
   "metadata": {},
   "outputs": [],
   "source": [
    "velocity_result1        = \"gnu_serial/o0/velocity_result_.txt\"\n",
    "velocity_result2        = \"gnu_parallel/o3/mavx512f/velocity_result_.txt\"\n",
    "total_cell_mass_result1 = \"gnu_serial/o0/total_cell_mass_result_.txt\"\n",
    "total_cell_mass_result2 = \"gnu_parallel/o3/mavx512f/total_cell_mass_result_.txt\"\n",
    "total_pressure_result1  = \"gnu_serial/o0/total_pressure_result_.txt\"\n",
    "total_pressure_result2  = \"gnu_parallel/o3/mavx512f/total_pressure_result_.txt\"\n",
    "total_sie_result1       = \"gnu_serial/o0/total_sie_result_.txt\"\n",
    "total_sie_result2       = \"gnu_parallel/o3/mavx512f/total_sie_result_.txt\""
   ]
  },
  {
   "cell_type": "code",
   "execution_count": 112,
   "id": "8d43af8a-9d18-4413-96b1-1b90940bcb78",
   "metadata": {},
   "outputs": [
    {
     "name": "stdout",
     "output_type": "stream",
     "text": [
      "5.065240072414716e-29\n",
      "3.7754263256331386e-16\n",
      "0.0\n",
      "0.0\n"
     ]
    }
   ],
   "source": [
    "velocity_result1_arr = read_gnu_result(velocity_result1)\n",
    "velocity_result2_arr = read_gnu_result(velocity_result2)\n",
    "velocity_result__err = np.linalg.norm(velocity_result1_arr-velocity_result2_arr)\n",
    "print(velocity_result__err)\n",
    "total_cell_mass_result1_arr = read_gnu_result(total_cell_mass_result1)\n",
    "total_cell_mass_result2_arr = read_gnu_result(total_cell_mass_result2)\n",
    "total_cell_mass_result__err = np.linalg.norm(total_cell_mass_result1_arr-total_cell_mass_result2_arr)\n",
    "print(total_cell_mass_result__err)\n",
    "total_pressure_result1_arr = read_gnu_result(total_pressure_result1)\n",
    "total_pressure_result2_arr = read_gnu_result(total_pressure_result2)\n",
    "total_pressure_result__err = np.linalg.norm(total_pressure_result1_arr-total_pressure_result2_arr)\n",
    "print(total_pressure_result__err)\n",
    "total_sie_result1_arr = read_gnu_result(total_sie_result1)\n",
    "total_sie_result2_arr = read_gnu_result(total_sie_result2)\n",
    "total_sie_result__err = np.linalg.norm(total_sie_result1_arr-total_sie_result2_arr)\n",
    "print(total_sie_result__err)"
   ]
  },
  {
   "cell_type": "code",
   "execution_count": null,
   "id": "688c7d4b-8066-48ae-bedc-7d3142c5b2c1",
   "metadata": {},
   "outputs": [],
   "source": []
  }
 ],
 "metadata": {
  "kernelspec": {
   "display_name": "Python 3 (Intel® oneAPI 2023.0)",
   "language": "python",
   "name": "c009-intel_distribution_of_python_3_oneapi-beta05-python"
  },
  "language_info": {
   "codemirror_mode": {
    "name": "ipython",
    "version": 3
   },
   "file_extension": ".py",
   "mimetype": "text/x-python",
   "name": "python",
   "nbconvert_exporter": "python",
   "pygments_lexer": "ipython3",
   "version": "3.9.15"
  }
 },
 "nbformat": 4,
 "nbformat_minor": 5
}
